import pandas as pd
import numpy as np
from matplotlib import pyplot as plt
%matplotlib inline
import matplotlib
matplotlib.rcParams["figure.figsize"] = (20,10)

df1 = pd.read_csv("C:/Users/Emmanuel Ogebe/Documents/Data Science, AI Projects/Real Estate Price Prediction Project/Bengaluru_House_Data.csv")
df1.head()

df1

df1.shape

df1.groupby('area_type')['area_type'].agg('count')

df2 = df1.drop(['area_type','society','balcony','availability'],axis='columns')
df2.head()

df2.isnull().sum()

df3 = df2.dropna()
df3.isnull().sum()

df3.shape

df3['size'].unique()

df3['bhk'] = df3['size'].apply(lambda x: int(x.split(' ')[0]))

df3.head()

df3['bhk'].unique()

df3[df3.bhk>20]

df3['total_sqft'].unique()
